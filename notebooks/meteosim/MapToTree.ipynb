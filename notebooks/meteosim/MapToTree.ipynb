{
 "cells": [
  {
   "cell_type": "markdown",
   "metadata": {},
   "source": [
    "# Map CF compliant nc file to rest-like data tree"
   ]
  },
  {
   "cell_type": "code",
   "execution_count": null,
   "metadata": {},
   "outputs": [],
   "source": [
    "import xarray as xr\n",
    "import numpy as np\n",
    "import json\n",
    "from datetime import datetime\n",
    "from urllib.parse import urljoin\n",
    "\n",
    "import os\n",
    "import io"
   ]
  },
  {
   "cell_type": "code",
   "execution_count": null,
   "metadata": {},
   "outputs": [],
   "source": [
    "product_group = 'meteosim'\n",
    "product_class = 'moloch'\n",
    "instance_uid = 'AAABBBBCCC3090'\n",
    "lonlat = 'lon:4.5:512:0.0226_lat:36:512:0.0226'\n",
    "fname = './data/moloch_2018050103-lonlat.cf'\n",
    "\n",
    "url_root = 'https://rest.tdm-project.it'"
   ]
  },
  {
   "cell_type": "code",
   "execution_count": null,
   "metadata": {},
   "outputs": [],
   "source": [
    "import gdal, osr\n",
    "gdal.UseExceptions()\n",
    "\n",
    "# FIXME check that velocity fields are ok\n",
    "\n",
    "class MemMasterBuilder(object):\n",
    "    def __init__(self):\n",
    "        self.driver = gdal.GetDriverByName(\"MEM\")\n",
    "\n",
    "    def get_geotransform(self, lons, lats):\n",
    "        # xstart, ystart is at upper left\n",
    "        return (lons[0], (lons[-1] - lons[0])/len(lons), 0,\n",
    "                lats[-1], 0, -(lats[-1] - lats[0])/len(lats))\n",
    "    \n",
    "    def setup_raster(self, data, lons, lats):\n",
    "        rows, cols = data[0].shape\n",
    "        raster = self.driver.Create(\"\", cols, rows, len(data),  gdal.GDT_Float32)\n",
    "        raster.SetGeoTransform(self.get_geotransform(lons, lats))\n",
    "        raster_srs= osr.SpatialReference()\n",
    "        raster_srs.ImportFromEPSG(4326)\n",
    "        raster.SetProjection(raster_srs.ExportToWkt())\n",
    "        return raster\n",
    "\n",
    "    def build(self, data, lons, lats, metadata):\n",
    "        if not isinstance(data, list):\n",
    "            data = [data]\n",
    "        raster = self.setup_raster(data, lons, lats)\n",
    "        for i, d in enumerate(data):\n",
    "            band = raster.GetRasterBand(1 + i)\n",
    "            band.WriteArray(d)\n",
    "            band.FlushCache()\n",
    "        return raster"
   ]
  },
  {
   "cell_type": "code",
   "execution_count": null,
   "metadata": {},
   "outputs": [],
   "source": [
    "product_root = os.path.join('tdm/odata/product', product_group, \n",
    "                            product_class, instance_uid)\n",
    "\n",
    "def path_to_here(timestamp, lonlat):\n",
    "    path = '/'.join([product_root, timestamp, lonlat])\n",
    "    return path\n",
    "\n",
    "def create_res_description(name, desc, url, dt, lonlat, fname):\n",
    "    stat = os.stat(fname)\n",
    "    return {\"name\": name,\n",
    "            \"description\": desc,\n",
    "            \"url\": url,\n",
    "            \"format\": \"TIFF\",\n",
    "            \"mimetype\": \"image/tiff\",\n",
    "            \"created\": stat.st_ctime,\n",
    "            \"last_modified\": stat.st_mtime,\n",
    "            \"size\": stat.st_size,\n",
    "            }"
   ]
  },
  {
   "cell_type": "code",
   "execution_count": null,
   "metadata": {},
   "outputs": [],
   "source": [
    "dataset = xr.open_dataset(fname)"
   ]
  },
  {
   "cell_type": "code",
   "execution_count": null,
   "metadata": {},
   "outputs": [],
   "source": [
    "levs = dataset.coords['lev']\n",
    "times = dataset.coords['time']"
   ]
  },
  {
   "cell_type": "code",
   "execution_count": null,
   "metadata": {},
   "outputs": [],
   "source": [
    "ns = 1e-9 # nanosecs in a sec\n",
    "FMT = '%Y-%m-%d_%H:%M:%S'\n",
    "lons = dataset.coords['lon'].values\n",
    "lats = dataset.coords['lat'].values\n",
    "\n",
    "out_driver = gdal.GetDriverByName(\"GTiff\")\n",
    "builder = MemMasterBuilder()\n",
    "resources = []\n",
    "for t in times:\n",
    "    ts = datetime.utcfromtimestamp(t.values.astype(int) * ns).strftime(FMT)\n",
    "    sel = {'time': t, 'lev': levs[0]}\n",
    "    ds = dataset.sel(sel)\n",
    "    path = path_to_here(ts, lonlat)\n",
    "    os.makedirs(path, exist_ok=True)\n",
    "    for field_name, desc, fdata in [('hcc', \"Total cloud coverage\", \n",
    "                                     [ds['hcc'].values]), \n",
    "                                    ('uv10', \"Wind velocity at 10m\", \n",
    "                                     [ds['10u'][0].values, ds['10v'][0].values])]:\n",
    "        raster = builder.build(fdata, lons, lats, \n",
    "                               {\"TIFFTAG_DATETIME\": ts})\n",
    "        out_path = os.path.join(path, \"%s.tif\" % field_name)\n",
    "        out_driver.CreateCopy(out_path, raster)\n",
    "        url = urljoin(url_root, out_path)\n",
    "        resources.append(create_res_description(field_name, desc, url, ts, lonlat, out_path))\n",
    "        print('created %s' % out_path)\n",
    "\n",
    "desc = {\"result\": {\"resources\": resources}}\n",
    "desc_path = os.path.join(product_root, \"description.json\")\n",
    "with io.open(desc_path, \"wt\") as f:\n",
    "    f.write(json.dumps(desc, indent=4, sort_keys=False))"
   ]
  },
  {
   "cell_type": "code",
   "execution_count": null,
   "metadata": {},
   "outputs": [],
   "source": []
  }
 ],
 "metadata": {
  "kernelspec": {
   "display_name": "Python 3",
   "language": "python",
   "name": "python3"
  },
  "language_info": {
   "codemirror_mode": {
    "name": "ipython",
    "version": 3
   },
   "file_extension": ".py",
   "mimetype": "text/x-python",
   "name": "python",
   "nbconvert_exporter": "python",
   "pygments_lexer": "ipython3",
   "version": "3.6.7"
  }
 },
 "nbformat": 4,
 "nbformat_minor": 2
}
